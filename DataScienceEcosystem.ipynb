{
 "cells": [
  {
   "cell_type": "code",
   "execution_count": null,
   "id": "8c5febaa-83b1-4a1d-974c-94b668013ad6",
   "metadata": {},
   "outputs": [],
   "source": [
    "# Data Science Tools and Ecosystem"
   ]
  },
  {
   "cell_type": "code",
   "execution_count": null,
   "id": "5eed403d-48e2-499c-b961-d3e6a4e543f3",
   "metadata": {},
   "outputs": [],
   "source": [
    "In this notebook, Data Science Tools and Ecosystem are summarized."
   ]
  },
  {
   "cell_type": "markdown",
   "id": "c7975108-f8ad-4a3d-b7c8-abc36841c97e",
   "metadata": {},
   "source": [
    "**objectives**\n",
    "-languages for Data Science\n",
    "-Some of the commonly used libraries used by Data Scientists\n",
    "-Data Science Tools and Ecosystem\n"
   ]
  },
  {
   "cell_type": "markdown",
   "id": "60f0a4f7-9b7d-46e3-9d54-f6fe96c9e664",
   "metadata": {},
   "source": [
    "Some of the popular languages that Data Scientists use are:\n",
    "1.R\n",
    "2.SQL\n",
    "3.Python"
   ]
  },
  {
   "cell_type": "markdown",
   "id": "0f79e386-7e0d-4c38-9173-c46111ce28b4",
   "metadata": {},
   "source": [
    "Some of the commonly used libraries used by Data Scientists include:\n",
    "1.pandas\n",
    "2.numPy\n",
    "3.tensorflow"
   ]
  },
  {
   "cell_type": "markdown",
   "id": "705e4696-9d98-4421-a4da-39c9646a5419",
   "metadata": {},
   "source": [
    "|Data Science Tools|\n",
    "|-----------|\n",
    "|Rstudio|\n",
    "|jupyter notebooks|\n",
    "|google colab|"
   ]
  },
  {
   "cell_type": "code",
   "execution_count": 9,
   "id": "d4c65fcf-c3ee-4907-8049-40e00c34430c",
   "metadata": {},
   "outputs": [],
   "source": [
    "### Below are a few examples of evaluating arithmetic expressions in Python"
   ]
  },
  {
   "cell_type": "code",
   "execution_count": 8,
   "id": "87ea73b4-ed56-4cb7-a2e3-319e2de30b83",
   "metadata": {},
   "outputs": [
    {
     "data": {
      "text/plain": [
       "17"
      ]
     },
     "execution_count": 8,
     "metadata": {},
     "output_type": "execute_result"
    }
   ],
   "source": [
    " #This a simple arithmetic expression to mutiply then add integers\n",
    "(3*4)+5"
   ]
  },
  {
   "cell_type": "code",
   "execution_count": 11,
   "id": "7f531032-4b72-447e-b541-f2271346d750",
   "metadata": {},
   "outputs": [
    {
     "data": {
      "text/plain": [
       "3.3333333333333335"
      ]
     },
     "execution_count": 11,
     "metadata": {},
     "output_type": "execute_result"
    }
   ],
   "source": [
    "#This will convert 200 minutes to hours by diving by 60\n",
    "200 / 60"
   ]
  },
  {
   "cell_type": "markdown",
   "id": "f82d3276-1d77-404a-b08c-f03c6e5135dd",
   "metadata": {},
   "source": [
    "## Author\n",
    "Majd alchriti\n"
   ]
  },
  {
   "cell_type": "code",
   "execution_count": null,
   "id": "6f763eec-adbe-4838-b505-60a1de54888c",
   "metadata": {},
   "outputs": [],
   "source": []
  }
 ],
 "metadata": {
  "kernelspec": {
   "display_name": "Python 3 (ipykernel)",
   "language": "python",
   "name": "python3"
  },
  "language_info": {
   "codemirror_mode": {
    "name": "ipython",
    "version": 3
   },
   "file_extension": ".py",
   "mimetype": "text/x-python",
   "name": "python",
   "nbconvert_exporter": "python",
   "pygments_lexer": "ipython3",
   "version": "3.13.5"
  }
 },
 "nbformat": 4,
 "nbformat_minor": 5
}
